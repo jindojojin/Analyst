{
  "nbformat": 4,
  "nbformat_minor": 0,
  "metadata": {
    "colab": {
      "name": "QuangLinh_Interpreter.ipynb",
      "provenance": [],
      "collapsed_sections": [],
      "toc_visible": true,
      "authorship_tag": "ABX9TyOfGqdvHNAi4o7QX4OM5UPX",
      "include_colab_link": true
    },
    "kernelspec": {
      "name": "python3",
      "display_name": "Python 3"
    },
    "language_info": {
      "name": "python"
    }
  },
  "cells": [
    {
      "cell_type": "markdown",
      "metadata": {
        "id": "view-in-github",
        "colab_type": "text"
      },
      "source": [
        "<a href=\"https://colab.research.google.com/github/jindojojin/Analyst/blob/master/QuangLinh_Interpreter.ipynb\" target=\"_parent\"><img src=\"https://colab.research.google.com/assets/colab-badge.svg\" alt=\"Open In Colab\"/></a>"
      ]
    },
    {
      "cell_type": "markdown",
      "source": [
        "# Program input"
      ],
      "metadata": {
        "id": "AUObwFjkoNUK"
      }
    },
    {
      "cell_type": "markdown",
      "source": [
        "begin\n",
        "  int a ;\n",
        "  int b ;\n",
        "  int A123a ;\n",
        "  int aB123 ;\n",
        "  a = 200 ;\n",
        "  b = 200 ;\n",
        "  A123a = a * b ;\n",
        "  while ( a == b ) do \n",
        "   begin\n",
        "      print a ;\n",
        "   end ;\n",
        "end"
      ],
      "metadata": {
        "id": "AGg5pjtQCw7C"
      }
    },
    {
      "cell_type": "markdown",
      "source": [
        "# Scanner"
      ],
      "metadata": {
        "id": "gr8ruFtUnrb8"
      }
    },
    {
      "cell_type": "code",
      "source": [
        "#@title Get program input & declare common classes\n",
        "from google.colab import _message\n",
        "# Load the notebook JSON.\n",
        "nb = _message.blocking_request('get_ipynb')\n",
        "# Get source code from 'Program input' Session.\n",
        "SOURCE_CODE_INPUT = ''.join(nb['ipynb']['cells'][1]['source'])\n",
        "\n",
        "class WordType: # Enum\n",
        "  Operator = 'Op'\n",
        "  ID = 'Id'\n",
        "  Number = 'Num'\n",
        "  Keyword = 'Keyword'\n",
        "  Type = 'Type'\n",
        "  Assign = '='\n",
        "\n",
        "class Word:\n",
        "  def __init__(self, name, wordType):\n",
        "    self.name = name\n",
        "    self.wordType = wordType"
      ],
      "metadata": {
        "id": "qI_nVoJY_7lv",
        "cellView": "code"
      },
      "execution_count": null,
      "outputs": []
    },
    {
      "cell_type": "markdown",
      "source": [
        "### Automat"
      ],
      "metadata": {
        "id": "vDrbyR57CZXr"
      }
    },
    {
      "cell_type": "code",
      "source": [
        "# @title Build NFA\n",
        "class NFA:\n",
        "  def __init__(self):\n",
        "    self.StartState = 0 # S0\n",
        "    self.AcceptingStates = []  # S1 = ending = accepting state\n",
        "    self.TransMap = {} \n",
        "    self.stateCount = 1 # init with start = 0 & end = 1\n",
        "\n",
        "def _transition2TransMapkey(state, char):\n",
        "  return f\"{200*state + ord(char)}\" # 200 > num of ascii code\n",
        "\n",
        "def _TransMapkey2transition(key):\n",
        "  index = int(key)\n",
        "  charCode = chr(index % 200)\n",
        "  state = index // 200\n",
        "  return [\n",
        "      state,\n",
        "      charCode\n",
        "  ]\n",
        "\n",
        "def _shiffStateNFA(nfa,newStart=0): # Bien NFA co startState = oldStart thanh NFA co startState = newStart\n",
        "  offset = newStart - nfa.StartState\n",
        "  newNFA = NFA()\n",
        "  newNFA.StartState = newStart\n",
        "  newNFA.stateCount = nfa.stateCount\n",
        "  for state in nfa.AcceptingStates:\n",
        "    newNFA.AcceptingStates.append(state + newStart)\n",
        "  for key in nfa.TransMap:\n",
        "    transition = _TransMapkey2transition(key)\n",
        "    newNFA.TransMap[_transition2TransMapkey(transition[0]+ offset, transition[1])] = nfa.TransMap[key] + offset\n",
        "  return newNFA;\n",
        "\n",
        "def _andNFA(list_nfa = []):  # ab\n",
        "  resultNFA = NFA()\n",
        "  # for nfa in list_nfa:\n",
        "  return resultNFA\n",
        "\n",
        "def _orNFA(list_nfa = []):   # a|b\n",
        "  result = NFA()\n",
        "  return result\n",
        "\n",
        "def _kleene_closure_NFA(nfa):# a*\n",
        "  result = NFA()\n",
        "  return result\n",
        "\n",
        "def createNFA(word):\n",
        "  nfa = NFA()\n",
        "  for c in word:\n",
        "    nfa.stateCount += 1\n",
        "    nfa.TransMap[_transition2TransMapkey(nfa.stateCount-1,c)] = nfa.stateCount # move to next character (new state)\n",
        "  nfa.AcceptingStates = [nfa.stateCount]\n",
        "  return nfa\n",
        "\n",
        "nfas = []\n",
        "for keyword in ['begin','end','print', 'while', 'do' , ';']:\n",
        "  nfa = createNFA(keyword)\n",
        "  print (\"shiff------\",_shiffStateNFA(nfa,5).TransMap)\n",
        "  print (\"old--------\",nfa.TransMap)\n",
        "  nfas.append(createNFA(keyword))\n",
        "\n",
        "# create nfa for ID\n",
        "\n",
        "# create nfa for Number\n",
        "\n",
        "finalNFA = _orNFA(nfas)"
      ],
      "metadata": {
        "colab": {
          "base_uri": "https://localhost:8080/"
        },
        "cellView": "code",
        "id": "cxXTPr3pWKyL",
        "outputId": "dfce2550-ed3c-49f4-9f46-316eab6dc4ea"
      },
      "execution_count": 62,
      "outputs": [
        {
          "output_type": "stream",
          "name": "stdout",
          "text": [
            "shiff------ {'1298': 7, '1501': 8, '1703': 9, '1905': 10, '2110': 11}\n",
            "old-------- {'298': 2, '501': 3, '703': 4, '905': 5, '1110': 6}\n",
            "shiff------ {'1301': 7, '1510': 8, '1700': 9}\n",
            "old-------- {'301': 2, '510': 3, '700': 4}\n",
            "shiff------ {'1312': 7, '1514': 8, '1705': 9, '1910': 10, '2116': 11}\n",
            "old-------- {'312': 2, '514': 3, '705': 4, '910': 5, '1116': 6}\n",
            "shiff------ {'1319': 7, '1504': 8, '1705': 9, '1908': 10, '2101': 11}\n",
            "old-------- {'319': 2, '504': 3, '705': 4, '908': 5, '1101': 6}\n",
            "shiff------ {'1300': 7, '1511': 8}\n",
            "old-------- {'300': 2, '511': 3}\n",
            "shiff------ {'1259': 7}\n",
            "old-------- {'259': 2}\n"
          ]
        }
      ]
    },
    {
      "cell_type": "code",
      "source": [
        "# @title Convert NFA to DFA"
      ],
      "metadata": {
        "cellView": "code",
        "id": "sWpMNQguWoCg"
      },
      "execution_count": null,
      "outputs": []
    },
    {
      "cell_type": "code",
      "source": [
        "#@title Automat class\n",
        "class Automat:\n",
        "  \n",
        "  def __init__(self):\n",
        "    self.reset()\n",
        "\n",
        "  def reset(self):\n",
        "    self.currentState = 0\n",
        "    self.currentWord = ''\n",
        "\n",
        "  def transition(self, c):\n",
        "    stop = False\n",
        "    error = False\n",
        "    if(c == '' or c == '\\n' or c == '\\t'):\n",
        "      stop = True\n",
        "      if(not nfa.AcceptingStates.includes(self.currentState)):\n",
        "        error = True\n",
        "    else:\n",
        "      self.currentWord += c\n",
        "      transKey = f\"{self.currentState}-{c}\"\n",
        "      if(transKey in nfa.TransMap):\n",
        "        self.currentState = nfa.TransMap[transKey]\n",
        "      else:\n",
        "        stop = True\n",
        "        error = True\n",
        "  \n",
        "    result = {\n",
        "        'stop': stop,\n",
        "        'error': error,\n",
        "        'word': self.currentWord\n",
        "    }\n",
        "\n",
        "    if(stop):\n",
        "      self.reset()\n",
        "\n",
        "    return result\n",
        "\n"
      ],
      "metadata": {
        "colab": {
          "base_uri": "https://localhost:8080/"
        },
        "id": "cldVYpbe2L7A",
        "outputId": "b15f8ddf-ef8d-4d05-c7e2-64b216f4b259",
        "cellView": "code"
      },
      "execution_count": null,
      "outputs": [
        {
          "output_type": "stream",
          "name": "stdout",
          "text": [
            "[6, 5, 8]\n",
            "{'1-b': 2, '2-e': 3, '3-g': 4, '4-i': 5, '5-n': 6, '3-n': 4, '4-d': 5, '3-p': 4, '4-r': 5, '5-i': 6, '6-n': 7, '7-t': 8}\n"
          ]
        }
      ]
    },
    {
      "cell_type": "markdown",
      "source": [
        "### Scanner implementation"
      ],
      "metadata": {
        "id": "Q-CR8VUVC8B-"
      }
    },
    {
      "cell_type": "code",
      "execution_count": null,
      "metadata": {
        "id": "Bx8VWbWi_yz5",
        "cellView": "code"
      },
      "outputs": [],
      "source": [
        "class Scanner:\n",
        "  def __init__(self):\n",
        "    self.words = []\n",
        "  \n",
        "  def scan(self):\n",
        "    print(\">>>>>>>>>>> start scan procedure\")\n",
        "    automat = Automat()\n",
        "    endingPos = len(SOURCE_CODE_INPUT) -1\n",
        "    for i in range(endingPos):\n",
        "      c = SOURCE_CODE_INPUT[i]\n",
        "      result = automat.transition(c)\n",
        "      if ( result['stop']):\n",
        "        if (result['error']):\n",
        "          #Todo tao ham thong bao loi\n",
        "          print(\"Chuong trinh khong hop le\")\n",
        "          break\n",
        "        else:\n",
        "          word = result['word']\n",
        "          self.words.append(Word(word, WordType.Operator))\n",
        "    print(\">>>>>>>>>>> finish scan procedure\")\n",
        "\n",
        "  def printScanResult(self):\n",
        "    for word in self.words:\n",
        "      print(f\"{word.name} : {word.wordType}\")\n",
        "\n"
      ]
    },
    {
      "cell_type": "markdown",
      "source": [
        "# Main"
      ],
      "metadata": {
        "id": "wRyK4obEnt2X"
      }
    },
    {
      "cell_type": "code",
      "source": [
        "scanner = Scanner()\n",
        "scanner.scan()"
      ],
      "metadata": {
        "colab": {
          "base_uri": "https://localhost:8080/"
        },
        "id": "v8ohh8cwMIWL",
        "outputId": "4ae86e7e-e7f6-422c-fef7-1e0468263077"
      },
      "execution_count": null,
      "outputs": [
        {
          "output_type": "stream",
          "name": "stdout",
          "text": [
            ">>>>>>>>>>> start scan procedure\n",
            "Da co loi xay ra\n",
            ">>>>>>>>>>> finish scan procedure\n"
          ]
        }
      ]
    },
    {
      "cell_type": "markdown",
      "source": [
        "\n",
        "\n"
      ],
      "metadata": {
        "id": "z20XYOKVAHf2"
      }
    }
  ]
}